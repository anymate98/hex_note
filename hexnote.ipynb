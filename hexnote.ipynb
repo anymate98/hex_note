{
 "cells": [
  {
   "cell_type": "code",
   "execution_count": 1,
   "metadata": {},
   "outputs": [],
   "source": [
    "using Images"
   ]
  },
  {
   "cell_type": "code",
   "execution_count": 2,
   "metadata": {},
   "outputs": [
    {
     "data": {
      "text/plain": [
       "(10000, 14142)"
      ]
     },
     "execution_count": 2,
     "metadata": {},
     "output_type": "execute_result"
    }
   ],
   "source": [
    "const w, h = 10000, 14142"
   ]
  },
  {
   "cell_type": "code",
   "execution_count": 3,
   "metadata": {},
   "outputs": [
    {
     "data": {
      "image/png": "[encoded data removed]",
      "text/plain": [
       "14142×10000 Array{RGB{Float64},2}:\n",
       " RGB{Float64}(0.0,0.0,0.0)  …  RGB{Float64}(0.0,0.0,0.0)\n",
       " RGB{Float64}(0.0,0.0,0.0)     RGB{Float64}(0.0,0.0,0.0)\n",
       " RGB{Float64}(0.0,0.0,0.0)     RGB{Float64}(0.0,0.0,0.0)\n",
       " RGB{Float64}(0.0,0.0,0.0)     RGB{Float64}(0.0,0.0,0.0)\n",
       " RGB{Float64}(0.0,0.0,0.0)     RGB{Float64}(0.0,0.0,0.0)\n",
       " RGB{Float64}(0.0,0.0,0.0)  …  RGB{Float64}(0.0,0.0,0.0)\n",
       " RGB{Float64}(0.0,0.0,0.0)     RGB{Float64}(0.0,0.0,0.0)\n",
       " RGB{Float64}(0.0,0.0,0.0)     RGB{Float64}(0.0,0.0,0.0)\n",
       " RGB{Float64}(0.0,0.0,0.0)     RGB{Float64}(0.0,0.0,0.0)\n",
       " RGB{Float64}(0.0,0.0,0.0)     RGB{Float64}(0.0,0.0,0.0)\n",
       " RGB{Float64}(0.0,0.0,0.0)  …  RGB{Float64}(0.0,0.0,0.0)\n",
       " RGB{Float64}(0.0,0.0,0.0)     RGB{Float64}(0.0,0.0,0.0)\n",
       " RGB{Float64}(0.0,0.0,0.0)     RGB{Float64}(0.0,0.0,0.0)\n",
       " ⋮                          ⋱                           \n",
       " RGB{Float64}(0.0,0.0,0.0)  …  RGB{Float64}(0.0,0.0,0.0)\n",
       " RGB{Float64}(0.0,0.0,0.0)     RGB{Float64}(0.0,0.0,0.0)\n",
       " RGB{Float64}(0.0,0.0,0.0)     RGB{Float64}(0.0,0.0,0.0)\n",
       " RGB{Float64}(0.0,0.0,0.0)     RGB{Float64}(0.0,0.0,0.0)\n",
       " RGB{Float64}(0.0,0.0,0.0)     RGB{Float64}(0.0,0.0,0.0)\n",
       " RGB{Float64}(0.0,0.0,0.0)  …  RGB{Float64}(0.0,0.0,0.0)\n",
       " RGB{Float64}(0.0,0.0,0.0)     RGB{Float64}(0.0,0.0,0.0)\n",
       " RGB{Float64}(0.0,0.0,0.0)     RGB{Float64}(0.0,0.0,0.0)\n",
       " RGB{Float64}(0.0,0.0,0.0)     RGB{Float64}(0.0,0.0,0.0)\n",
       " RGB{Float64}(0.0,0.0,0.0)     RGB{Float64}(0.0,0.0,0.0)\n",
       " RGB{Float64}(0.0,0.0,0.0)  …  RGB{Float64}(0.0,0.0,0.0)\n",
       " RGB{Float64}(0.0,0.0,0.0)     RGB{Float64}(0.0,0.0,0.0)"
      ]
     },
     "execution_count": 3,
     "metadata": {},
     "output_type": "execute_result"
    }
   ],
   "source": [
    "const img = Array{RGB{Float64}}(h, w)"
   ]
  },
  {
   "cell_type": "code",
   "execution_count": 45,
   "metadata": {},
   "outputs": [],
   "source": [
    "white = RGB{Float64}(255, 255, 255)\n",
    "green = RGB{Float64}(98, 147, 112)\n",
    "black = RGB{Float64}(0, 0, 0)\n",
    "\n",
    "for i in 1:h\n",
    "    for j in 1:w\n",
    "        img[i,j] = white\n",
    "    end\n",
    "end\n",
    "\n",
    "for i in 10:h-10\n",
    "    for j in 10:w-10\n",
    "        \n",
    "        a = i%642\n",
    "        b = j%370\n",
    "        \n",
    "        if i%642 < 107\n",
    "            if j%370 < 185\n",
    "                if abs(-107/185 * b + 107 - a) < 2\n",
    "                    img[i,j] = black\n",
    "                end\n",
    "            else\n",
    "                if abs(107/185 * b - 107 - a) < 2\n",
    "                    img[i,j] = black\n",
    "                end\n",
    "            end\n",
    "        elseif 107 <= i%642 < 214\n",
    "            if j%370 < 185\n",
    "                if abs(b) < 2.2\n",
    "                    img[i,j] = black\n",
    "                end\n",
    "            else\n",
    "                if abs(b-370) < 2.2\n",
    "                    img[i,j] = black\n",
    "                end\n",
    "            end            \n",
    "        elseif 214 <= i%642 < 321            \n",
    "            if j%370 < 185\n",
    "                if abs(b) < 2.2\n",
    "                    img[i,j] = black\n",
    "                end\n",
    "            else\n",
    "                if abs(b-370) < 2.2\n",
    "                    img[i,j] = black\n",
    "                end\n",
    "            end            \n",
    "        elseif 321 <= i%642 < 428            \n",
    "            if j%370 < 185\n",
    "                if abs(107/185 * b +321 - a) < 2\n",
    "                    img[i,j] = black\n",
    "                end\n",
    "            else\n",
    "                if abs(-107/185 * b + 535 - a) < 2\n",
    "                    img[i,j] = black\n",
    "                end\n",
    "            end            \n",
    "        elseif 428 <= i%642 < 535            \n",
    "            if j%370 < 185\n",
    "                if abs(b-185) < 2.2\n",
    "                    img[i,j] = black\n",
    "                end\n",
    "            else\n",
    "                if abs(b-185) < 2.2\n",
    "                    img[i,j] = black\n",
    "                end\n",
    "            end            \n",
    "        else            \n",
    "            if j%370 < 185\n",
    "                if abs(b-185) < 2.2\n",
    "                    img[i,j] = black\n",
    "                end\n",
    "            else\n",
    "                if abs(b-185) < 2.2\n",
    "                    img[i,j] = black\n",
    "                end\n",
    "            end            \n",
    "        end\n",
    "    end\n",
    "end "
   ]
  },
  {
   "cell_type": "code",
   "execution_count": 46,
   "metadata": {},
   "outputs": [
    {
     "name": "stderr",
     "output_type": "stream",
     "text": [
      "\u001b[1m\u001b[33mWARNING: \u001b[39m\u001b[22m\u001b[33mMapping to the storage type failed; perhaps your data had out-of-range values?\n",
      "Try `map(clamp01nan, img)` to clamp values to a valid range.\u001b[39m\n"
     ]
    },
    {
     "data": {
      "text/plain": [
       "185767"
      ]
     },
     "execution_count": 46,
     "metadata": {},
     "output_type": "execute_result"
    }
   ],
   "source": [
    "save(\"hexnote.png\", img)"
   ]
  }
 ],
 "metadata": {
  "kernelspec": {
   "display_name": "Julia 0.6.3",
   "language": "julia",
   "name": "julia-0.6"
  },
  "language_info": {
   "file_extension": ".jl",
   "mimetype": "application/julia",
   "name": "julia",
   "version": "0.6.3"
  }
 },
 "nbformat": 4,
 "nbformat_minor": 2
}
